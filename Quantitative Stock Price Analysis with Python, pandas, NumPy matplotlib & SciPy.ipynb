{
 "cells": [
  {
   "cell_type": "markdown",
   "id": "8f1f94d1",
   "metadata": {},
   "source": [
    "## 1. Set up Environment\n"
   ]
  },
  {
   "cell_type": "code",
   "execution_count": 1,
   "id": "09d0a5b5",
   "metadata": {},
   "outputs": [],
   "source": [
    "import numpy as np\n",
    "import pandas as pd\n",
    "import pandas_datareader as pdr\n",
    "import yfinance as yf\n",
    "import matplotlib.pyplot as plt\n",
    "from matplotlib import rcParams\n",
    "rcParams[\"figure.figsize\"] = 8,6\n",
    "import seaborn as sb\n",
    "sb.set()\n",
    "\n",
    "from sklearn.linear_model import LinearRegression\n",
    "\n",
    "lr = LinearRegression()"
   ]
  },
  {
   "cell_type": "markdown",
   "id": "8e40f765",
   "metadata": {},
   "source": [
    "## 2. Download stock price data, store in dataframe"
   ]
  },
  {
   "cell_type": "code",
   "execution_count": 2,
   "id": "27aa5169",
   "metadata": {},
   "outputs": [
    {
     "name": "stdout",
     "output_type": "stream",
     "text": [
      "[*********************100%%**********************]  1 of 1 completed\n"
     ]
    }
   ],
   "source": [
    "amzn = yf.download('AMZN')"
   ]
  },
  {
   "cell_type": "code",
   "execution_count": 3,
   "id": "063204b4",
   "metadata": {},
   "outputs": [
    {
     "data": {
      "text/html": [
       "<div>\n",
       "<style scoped>\n",
       "    .dataframe tbody tr th:only-of-type {\n",
       "        vertical-align: middle;\n",
       "    }\n",
       "\n",
       "    .dataframe tbody tr th {\n",
       "        vertical-align: top;\n",
       "    }\n",
       "\n",
       "    .dataframe thead th {\n",
       "        text-align: right;\n",
       "    }\n",
       "</style>\n",
       "<table border=\"1\" class=\"dataframe\">\n",
       "  <thead>\n",
       "    <tr style=\"text-align: right;\">\n",
       "      <th></th>\n",
       "      <th>Open</th>\n",
       "      <th>High</th>\n",
       "      <th>Low</th>\n",
       "      <th>Close</th>\n",
       "      <th>Adj Close</th>\n",
       "      <th>Volume</th>\n",
       "    </tr>\n",
       "    <tr>\n",
       "      <th>Date</th>\n",
       "      <th></th>\n",
       "      <th></th>\n",
       "      <th></th>\n",
       "      <th></th>\n",
       "      <th></th>\n",
       "      <th></th>\n",
       "    </tr>\n",
       "  </thead>\n",
       "  <tbody>\n",
       "    <tr>\n",
       "      <th>2023-12-29</th>\n",
       "      <td>153.100006</td>\n",
       "      <td>153.889999</td>\n",
       "      <td>151.029999</td>\n",
       "      <td>151.940002</td>\n",
       "      <td>151.940002</td>\n",
       "      <td>39789000</td>\n",
       "    </tr>\n",
       "    <tr>\n",
       "      <th>2024-01-02</th>\n",
       "      <td>151.539993</td>\n",
       "      <td>152.380005</td>\n",
       "      <td>148.389999</td>\n",
       "      <td>149.929993</td>\n",
       "      <td>149.929993</td>\n",
       "      <td>47339400</td>\n",
       "    </tr>\n",
       "    <tr>\n",
       "      <th>2024-01-03</th>\n",
       "      <td>149.199997</td>\n",
       "      <td>151.050003</td>\n",
       "      <td>148.330002</td>\n",
       "      <td>148.470001</td>\n",
       "      <td>148.470001</td>\n",
       "      <td>49425500</td>\n",
       "    </tr>\n",
       "    <tr>\n",
       "      <th>2024-01-04</th>\n",
       "      <td>145.589996</td>\n",
       "      <td>147.380005</td>\n",
       "      <td>144.050003</td>\n",
       "      <td>144.570007</td>\n",
       "      <td>144.570007</td>\n",
       "      <td>56039800</td>\n",
       "    </tr>\n",
       "    <tr>\n",
       "      <th>2024-01-05</th>\n",
       "      <td>144.690002</td>\n",
       "      <td>146.589996</td>\n",
       "      <td>144.529999</td>\n",
       "      <td>145.240005</td>\n",
       "      <td>145.240005</td>\n",
       "      <td>45124800</td>\n",
       "    </tr>\n",
       "  </tbody>\n",
       "</table>\n",
       "</div>"
      ],
      "text/plain": [
       "                  Open        High         Low       Close   Adj Close  \\\n",
       "Date                                                                     \n",
       "2023-12-29  153.100006  153.889999  151.029999  151.940002  151.940002   \n",
       "2024-01-02  151.539993  152.380005  148.389999  149.929993  149.929993   \n",
       "2024-01-03  149.199997  151.050003  148.330002  148.470001  148.470001   \n",
       "2024-01-04  145.589996  147.380005  144.050003  144.570007  144.570007   \n",
       "2024-01-05  144.690002  146.589996  144.529999  145.240005  145.240005   \n",
       "\n",
       "              Volume  \n",
       "Date                  \n",
       "2023-12-29  39789000  \n",
       "2024-01-02  47339400  \n",
       "2024-01-03  49425500  \n",
       "2024-01-04  56039800  \n",
       "2024-01-05  45124800  "
      ]
     },
     "execution_count": 3,
     "metadata": {},
     "output_type": "execute_result"
    }
   ],
   "source": [
    "amzn.tail()"
   ]
  },
  {
   "cell_type": "markdown",
   "id": "1b2469d2",
   "metadata": {},
   "source": [
    "## 4. Store instantaneous rate of return in separate series"
   ]
  },
  {
   "cell_type": "code",
   "execution_count": 4,
   "id": "402f3255",
   "metadata": {},
   "outputs": [
    {
     "data": {
      "text/plain": [
       "Date\n",
       "1997-05-15         NaN\n",
       "1997-05-16   -0.124461\n",
       "1997-05-19   -0.012114\n",
       "1997-05-20   -0.043623\n",
       "1997-05-21   -0.136269\n",
       "Name: Close, dtype: float64"
      ]
     },
     "execution_count": 4,
     "metadata": {},
     "output_type": "execute_result"
    }
   ],
   "source": [
    "amzn_close = amzn[\"Close\"]\n",
    "amzn_return = np.log(amzn_close).diff()\n",
    "amzn_return.head()"
   ]
  },
  {
   "cell_type": "markdown",
   "id": "d5cdf12f",
   "metadata": {},
   "source": [
    "## 5. Plot the series"
   ]
  },
  {
   "cell_type": "code",
   "execution_count": 5,
   "id": "c1c8c894",
   "metadata": {},
   "outputs": [
    {
     "data": {
      "text/plain": [
       "<Axes: xlabel='Date'>"
      ]
     },
     "execution_count": 5,
     "metadata": {},
     "output_type": "execute_result"
    },
    {
     "data": {
      "image/png": "[encoded data removed]",
      "text/plain": [
       "<Figure size 800x600 with 1 Axes>"
      ]
     },
     "metadata": {},
     "output_type": "display_data"
    }
   ],
   "source": [
    "amzn_return.plot()"
   ]
  },
  {
   "cell_type": "markdown",
   "id": "fbe23aa5",
   "metadata": {},
   "source": [
    "## 6. Pandas describe function gives descriptive statistics, default assumes you are dealing with a sample Pandas also deals with missing values by omitting them"
   ]
  },
  {
   "cell_type": "code",
   "execution_count": 6,
   "id": "ebf3fb0f",
   "metadata": {},
   "outputs": [
    {
     "data": {
      "text/plain": [
       "count    6704.000000\n",
       "mean        0.001089\n",
       "std         0.035256\n",
       "min        -0.284568\n",
       "25%        -0.013248\n",
       "50%         0.000414\n",
       "75%         0.014702\n",
       "max         0.296181\n",
       "Name: Close, dtype: float64"
      ]
     },
     "execution_count": 6,
     "metadata": {},
     "output_type": "execute_result"
    }
   ],
   "source": [
    "amzn_return.describe()"
   ]
  },
  {
   "cell_type": "code",
   "execution_count": 7,
   "id": "a63b264e",
   "metadata": {},
   "outputs": [
    {
     "data": {
      "text/plain": [
       "count    6704.000000\n",
       "mean        0.001089\n",
       "std         0.035256\n",
       "min        -0.284568\n",
       "25%        -0.013248\n",
       "50%         0.000414\n",
       "75%         0.014702\n",
       "max         0.296181\n",
       "Name: Close, dtype: float64"
      ]
     },
     "execution_count": 7,
     "metadata": {},
     "output_type": "execute_result"
    }
   ],
   "source": [
    "amzn_return.dropna(inplace = True)\n",
    "amzn_return.describe()"
   ]
  },
  {
   "cell_type": "markdown",
   "id": "711b7a19",
   "metadata": {},
   "source": [
    "## 7. An alternative more slightly different table of descriptives from scipy stats"
   ]
  },
  {
   "cell_type": "code",
   "execution_count": 8,
   "id": "790c125e",
   "metadata": {},
   "outputs": [],
   "source": [
    "from scipy import stats"
   ]
  },
  {
   "cell_type": "code",
   "execution_count": 9,
   "id": "bc1eb268",
   "metadata": {},
   "outputs": [
    {
     "data": {
      "text/plain": [
       "DescribeResult(nobs=6704, minmax=(-0.2845678277981933, 0.2961810679830656), mean=0.0010892038638201517, variance=0.0012429985636089917, skewness=0.4499510575634065, kurtosis=9.333004020667053)"
      ]
     },
     "execution_count": 9,
     "metadata": {},
     "output_type": "execute_result"
    }
   ],
   "source": [
    "stats.describe(amzn_return)"
   ]
  },
  {
   "cell_type": "code",
   "execution_count": 10,
   "id": "b184d8d9",
   "metadata": {},
   "outputs": [],
   "source": [
    "n, minmax, mean, var, skew, kurt = stats.describe(amzn_return)\n",
    "mini, maxi = minmax\n",
    "std = var ** .5\n"
   ]
  },
  {
   "cell_type": "code",
   "execution_count": null,
   "id": "a0104e9b",
   "metadata": {},
   "outputs": [],
   "source": []
  },
  {
   "cell_type": "code",
   "execution_count": null,
   "id": "801694f2",
   "metadata": {},
   "outputs": [],
   "source": []
  },
  {
   "cell_type": "markdown",
   "id": "1321ac1b",
   "metadata": {},
   "source": [
    "## 9. for comparision generate random numbers that follow normal distribution"
   ]
  },
  {
   "cell_type": "code",
   "execution_count": 11,
   "id": "6c61ea69",
   "metadata": {},
   "outputs": [],
   "source": [
    "from scipy.stats import norm"
   ]
  },
  {
   "cell_type": "code",
   "execution_count": 12,
   "id": "71e68864",
   "metadata": {},
   "outputs": [
    {
     "data": {
      "image/png": "[encoded data removed]",
      "text/plain": [
       "<Figure size 800x600 with 1 Axes>"
      ]
     },
     "metadata": {},
     "output_type": "display_data"
    }
   ],
   "source": [
    "plt.hist(amzn_return, bins = 15);"
   ]
  },
  {
   "cell_type": "code",
   "execution_count": 13,
   "id": "d532f755",
   "metadata": {},
   "outputs": [],
   "source": [
    "from scipy.stats import norm\n",
    "x= norm.rvs(mean, std, n)"
   ]
  },
  {
   "cell_type": "code",
   "execution_count": 14,
   "id": "0b5bcc6c",
   "metadata": {},
   "outputs": [
    {
     "data": {
      "image/png": "[encoded data removed]",
      "text/plain": [
       "<Figure size 800x600 with 1 Axes>"
      ]
     },
     "metadata": {},
     "output_type": "display_data"
    }
   ],
   "source": [
    "plt.hist(x, bins = 15);"
   ]
  },
  {
   "cell_type": "code",
   "execution_count": 15,
   "id": "298347b9",
   "metadata": {},
   "outputs": [
    {
     "name": "stdout",
     "output_type": "stream",
     "text": [
      "   Test Statistic           p-value\n",
      "     ------------------------------\n",
      "x:             0.36          0.7155\n",
      "AMZN:         33.61          0.0000\n"
     ]
    }
   ],
   "source": [
    "x_test = stats.kurtosistest(x)\n",
    "amzn_test = stats.kurtosistest(amzn_return)\n",
    "print(f'{\"   Test Statistic\":20}{\"p-value\":>15}')\n",
    "print(f'{\" \"*5}{\"-\"*30}')\n",
    "print(f\"x:{x_test[0]:>17.2f}{x_test[1]:16.4f}\")\n",
    "print(f\"AMZN: {amzn_test[0]:13.2f}{amzn_test[1]:16.4f}\")"
   ]
  },
  {
   "cell_type": "markdown",
   "id": "e8a5b925",
   "metadata": {},
   "source": [
    "## 11. Plot histogram of price changes with normal curve overlay"
   ]
  },
  {
   "cell_type": "code",
   "execution_count": 16,
   "id": "47050914",
   "metadata": {},
   "outputs": [
    {
     "data": {
      "image/png": "[encoded data removed]",
      "text/plain": [
       "<Figure size 800x600 with 1 Axes>"
      ]
     },
     "metadata": {},
     "output_type": "display_data"
    }
   ],
   "source": [
    "plt.hist(amzn_return, bins = 25, edgecolor = \"w\", density = True)\n",
    "overlay = np.linspace(mini, maxi, 100)\n",
    "plt.plot(overlay, norm.pdf(overlay, mean, std));"
   ]
  },
  {
   "cell_type": "markdown",
   "id": "e4f5f40c",
   "metadata": {},
   "source": [
    "## Is the daily price change significantly different from Zero?"
   ]
  },
  {
   "cell_type": "code",
   "execution_count": 17,
   "id": "85047d37",
   "metadata": {},
   "outputs": [
    {
     "data": {
      "text/plain": [
       "TtestResult(statistic=2.5295359888994393, pvalue=0.011444072893855314, df=6703)"
      ]
     },
     "execution_count": 17,
     "metadata": {},
     "output_type": "execute_result"
    }
   ],
   "source": [
    "stats.ttest_1samp(amzn_return, 0, alternative = \"two-sided\")"
   ]
  },
  {
   "cell_type": "markdown",
   "id": "f6281068",
   "metadata": {},
   "source": [
    "## Can price movement be described as a random walk?\n"
   ]
  },
  {
   "cell_type": "markdown",
   "id": "600b202c",
   "metadata": {},
   "source": [
    "## 14. Create Price Lags\n"
   ]
  },
  {
   "cell_type": "code",
   "execution_count": 18,
   "id": "b3416dca",
   "metadata": {},
   "outputs": [
    {
     "data": {
      "text/html": [
       "<div>\n",
       "<style scoped>\n",
       "    .dataframe tbody tr th:only-of-type {\n",
       "        vertical-align: middle;\n",
       "    }\n",
       "\n",
       "    .dataframe tbody tr th {\n",
       "        vertical-align: top;\n",
       "    }\n",
       "\n",
       "    .dataframe thead th {\n",
       "        text-align: right;\n",
       "    }\n",
       "</style>\n",
       "<table border=\"1\" class=\"dataframe\">\n",
       "  <thead>\n",
       "    <tr style=\"text-align: right;\">\n",
       "      <th></th>\n",
       "      <th>Close</th>\n",
       "      <th>lag_1</th>\n",
       "      <th>lag_2</th>\n",
       "    </tr>\n",
       "    <tr>\n",
       "      <th>Date</th>\n",
       "      <th></th>\n",
       "      <th></th>\n",
       "      <th></th>\n",
       "    </tr>\n",
       "  </thead>\n",
       "  <tbody>\n",
       "    <tr>\n",
       "      <th>1997-05-19</th>\n",
       "      <td>0.085417</td>\n",
       "      <td>0.086458</td>\n",
       "      <td>0.097917</td>\n",
       "    </tr>\n",
       "    <tr>\n",
       "      <th>1997-05-20</th>\n",
       "      <td>0.081771</td>\n",
       "      <td>0.085417</td>\n",
       "      <td>0.086458</td>\n",
       "    </tr>\n",
       "    <tr>\n",
       "      <th>1997-05-21</th>\n",
       "      <td>0.071354</td>\n",
       "      <td>0.081771</td>\n",
       "      <td>0.085417</td>\n",
       "    </tr>\n",
       "    <tr>\n",
       "      <th>1997-05-22</th>\n",
       "      <td>0.069792</td>\n",
       "      <td>0.071354</td>\n",
       "      <td>0.081771</td>\n",
       "    </tr>\n",
       "    <tr>\n",
       "      <th>1997-05-23</th>\n",
       "      <td>0.075000</td>\n",
       "      <td>0.069792</td>\n",
       "      <td>0.071354</td>\n",
       "    </tr>\n",
       "  </tbody>\n",
       "</table>\n",
       "</div>"
      ],
      "text/plain": [
       "               Close     lag_1     lag_2\n",
       "Date                                    \n",
       "1997-05-19  0.085417  0.086458  0.097917\n",
       "1997-05-20  0.081771  0.085417  0.086458\n",
       "1997-05-21  0.071354  0.081771  0.085417\n",
       "1997-05-22  0.069792  0.071354  0.081771\n",
       "1997-05-23  0.075000  0.069792  0.071354"
      ]
     },
     "execution_count": 18,
     "metadata": {},
     "output_type": "execute_result"
    }
   ],
   "source": [
    "amzn_close = pd.DataFrame(amzn_close, columns = [\"Close\"])\n",
    "amzn_close[\"lag_1\"] = amzn_close.Close.shift(1)\n",
    "amzn_close[\"lag_2\"] = amzn_close.Close.shift(2)\n",
    "amzn_close.dropna(inplace = True)\n",
    "amzn_close.head()"
   ]
  },
  {
   "cell_type": "markdown",
   "id": "cb687e8f",
   "metadata": {},
   "source": [
    "## 15. Fit linear model"
   ]
  },
  {
   "cell_type": "code",
   "execution_count": 19,
   "id": "bf47abeb",
   "metadata": {},
   "outputs": [
    {
     "data": {
      "text/plain": [
       "array([0.97490129, 0.02531282])"
      ]
     },
     "execution_count": 19,
     "metadata": {},
     "output_type": "execute_result"
    }
   ],
   "source": [
    "np.linalg.lstsq(amzn_close[[\"lag_1\", \"lag_2\"]], amzn_close[\"Close\"], rcond = None)[0]"
   ]
  },
  {
   "cell_type": "code",
   "execution_count": 25,
   "id": "a3d70087",
   "metadata": {},
   "outputs": [
    {
     "ename": "TypeError",
     "evalue": "unsupported operand type(s) for *: 'float' and 'LinearRegression'",
     "output_type": "error",
     "traceback": [
      "\u001b[0;31m---------------------------------------------------------------------------\u001b[0m",
      "\u001b[0;31mTypeError\u001b[0m                                 Traceback (most recent call last)",
      "Cell \u001b[0;32mIn[25], line 1\u001b[0m\n\u001b[0;32m----> 1\u001b[0m amzn_close[\u001b[38;5;124m'\u001b[39m\u001b[38;5;124mpredict\u001b[39m\u001b[38;5;124m'\u001b[39m] \u001b[38;5;241m=\u001b[39m np\u001b[38;5;241m.\u001b[39mdot(amzn_close[[\u001b[38;5;124m'\u001b[39m\u001b[38;5;124mlag_1\u001b[39m\u001b[38;5;124m'\u001b[39m, \u001b[38;5;124m\"\u001b[39m\u001b[38;5;124mlag_2\u001b[39m\u001b[38;5;124m\"\u001b[39m]], lr)\n\u001b[1;32m      2\u001b[0m amzn_close\u001b[38;5;241m.\u001b[39mhead()\n",
      "File \u001b[0;32m<__array_function__ internals>:200\u001b[0m, in \u001b[0;36mdot\u001b[0;34m(*args, **kwargs)\u001b[0m\n",
      "\u001b[0;31mTypeError\u001b[0m: unsupported operand type(s) for *: 'float' and 'LinearRegression'"
     ]
    }
   ],
   "source": [
    "amzn_close['predict'] = np.dot(amzn_close[['lag_1', \"lag_2\"]], lr)\n",
    "amzn_close.head()"
   ]
  },
  {
   "cell_type": "code",
   "execution_count": null,
   "id": "f58efc45",
   "metadata": {},
   "outputs": [],
   "source": []
  },
  {
   "cell_type": "code",
   "execution_count": null,
   "id": "4fd0647b",
   "metadata": {},
   "outputs": [],
   "source": []
  }
 ],
 "metadata": {
  "kernelspec": {
   "display_name": "Python 3 (ipykernel)",
   "language": "python",
   "name": "python3"
  },
  "language_info": {
   "codemirror_mode": {
    "name": "ipython",
    "version": 3
   },
   "file_extension": ".py",
   "mimetype": "text/x-python",
   "name": "python",
   "nbconvert_exporter": "python",
   "pygments_lexer": "ipython3",
   "version": "3.11.5"
  }
 },
 "nbformat": 4,
 "nbformat_minor": 5
}
